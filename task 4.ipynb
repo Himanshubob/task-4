{
 "cells": [
  {
   "cell_type": "markdown",
   "id": "5c6c3714",
   "metadata": {},
   "source": [
    "# Q1. Create a class called \"Person\" with properties for \"name\", \"age\", and \"gender\". Create an object of this class and print out its properties."
   ]
  },
  {
   "cell_type": "code",
   "execution_count": 9,
   "id": "3f766e84",
   "metadata": {},
   "outputs": [],
   "source": [
    "class person:\n",
    "    def __init__( self,name,age,gender):\n",
    "        self.name=name\n",
    "        self.age=age\n",
    "        self.gender=gender\n",
    "    def information(self):\n",
    "        return self.name,self.age,self.gender\n",
    "    "
   ]
  },
  {
   "cell_type": "code",
   "execution_count": 10,
   "id": "75c76695",
   "metadata": {},
   "outputs": [],
   "source": [
    "detals=person(\"vandana\",17,\"femal\")"
   ]
  },
  {
   "cell_type": "code",
   "execution_count": 12,
   "id": "ba861c04",
   "metadata": {},
   "outputs": [
    {
     "data": {
      "text/plain": [
       "('vandana', 17, 'femal')"
      ]
     },
     "execution_count": 12,
     "metadata": {},
     "output_type": "execute_result"
    }
   ],
   "source": [
    "detals.information()"
   ]
  },
  {
   "cell_type": "code",
   "execution_count": null,
   "id": "cfcca287",
   "metadata": {},
   "outputs": [],
   "source": []
  },
  {
   "cell_type": "markdown",
   "id": "8bee0c99",
   "metadata": {},
   "source": [
    "# Q2. Write a Python class called \"Rectangle\" with attributes for \"width\" and \"height\". Implement methods to calculate the area and perimeter of the rectangle. Create an instance of this class and use it to print out the rectangle's area and perimeter."
   ]
  },
  {
   "cell_type": "code",
   "execution_count": 13,
   "id": "aeeffff7",
   "metadata": {},
   "outputs": [],
   "source": [
    "class rectangle:\n",
    "    def __init__(self,width,height):\n",
    "        self.width=width\n",
    "        self.height=height\n",
    "    def area(self):\n",
    "        return self.width*self.height\n",
    "    def perimeter(self):\n",
    "        return 2*(self.width+self.height)\n",
    "    \n"
   ]
  },
  {
   "cell_type": "code",
   "execution_count": 14,
   "id": "da6a3e62",
   "metadata": {},
   "outputs": [],
   "source": [
    "rectangle1=rectangle(4,5)"
   ]
  },
  {
   "cell_type": "code",
   "execution_count": 15,
   "id": "563bd0e2",
   "metadata": {},
   "outputs": [
    {
     "data": {
      "text/plain": [
       "20"
      ]
     },
     "execution_count": 15,
     "metadata": {},
     "output_type": "execute_result"
    }
   ],
   "source": [
    "rectangle1.area()"
   ]
  },
  {
   "cell_type": "code",
   "execution_count": 16,
   "id": "71a4452f",
   "metadata": {},
   "outputs": [
    {
     "data": {
      "text/plain": [
       "18"
      ]
     },
     "execution_count": 16,
     "metadata": {},
     "output_type": "execute_result"
    }
   ],
   "source": [
    "rectangle1.perimeter()"
   ]
  },
  {
   "cell_type": "markdown",
   "id": "b9968b66",
   "metadata": {},
   "source": [
    "# Q3. Write a Python class called \"BankAccount\" with attributes for \"balance\" and \"interest_rate\". Implement methods to deposit and withdraw money from the account, as well as to calculate the interest earned on the balance based on the interest rate. Create an instance of this class and use it to test out the implemented methods for deposit, withdrawal, and interest calculation."
   ]
  },
  {
   "cell_type": "code",
   "execution_count": 2,
   "id": "78572ede",
   "metadata": {},
   "outputs": [],
   "source": [
    "class BankAccount:\n",
    "    def __init__(self,balance,interest_rate):\n",
    "        self.balance=balance\n",
    "        self.interest_rate=interest_rate\n",
    "    def deposit(self,amount):\n",
    "        self.balance+=amount\n",
    "    def withdraw(self,amount):\n",
    "        self.balance-=amount\n",
    "    def calculate_interest(self):\n",
    "        return self.balance*self.interest_rate/100"
   ]
  },
  {
   "cell_type": "code",
   "execution_count": 4,
   "id": "54e0fb93",
   "metadata": {},
   "outputs": [],
   "source": [
    "acount=BankAccount(1000,1.5)"
   ]
  },
  {
   "cell_type": "code",
   "execution_count": 5,
   "id": "496021e0",
   "metadata": {},
   "outputs": [],
   "source": [
    "acount.deposit(500)"
   ]
  },
  {
   "cell_type": "code",
   "execution_count": 6,
   "id": "97414bf3",
   "metadata": {},
   "outputs": [
    {
     "data": {
      "text/plain": [
       "22.5"
      ]
     },
     "execution_count": 6,
     "metadata": {},
     "output_type": "execute_result"
    }
   ],
   "source": [
    "acount.calculate_interest()"
   ]
  },
  {
   "cell_type": "markdown",
   "id": "1547a10c",
   "metadata": {},
   "source": [
    "# Q4. Write a Python class called \"Animal\" with attributes for \"name\" and \"species\". Create a subclass of \"Animal\" called \"Dog\" with additional attributes for \"breed\" and \"owner\". Implement both classes with appropriate methods and constructors to initialise their properties. Create instances of both classes and use them to print out the various properties of the animals and dogs, such as their names, species, breeds, and owners.\n",
    "\n"
   ]
  },
  {
   "cell_type": "code",
   "execution_count": 1,
   "id": "03c53c0a",
   "metadata": {},
   "outputs": [],
   "source": [
    "class Animal:\n",
    "    def __init__(self,name,species):\n",
    "        self.name=name\n",
    "        self.species=species\n",
    "class Dog(Animal):\n",
    "    def __init__ (self,name,species,breed,owner):\n",
    "        super(). __init__(name,species)\n",
    "        self.breed=breed\n",
    "        self.owner=owner\n"
   ]
  },
  {
   "cell_type": "code",
   "execution_count": 2,
   "id": "4408b8b0",
   "metadata": {},
   "outputs": [],
   "source": [
    "animal=Animal(\"tiger\",\"feline\")\n"
   ]
  },
  {
   "cell_type": "code",
   "execution_count": 3,
   "id": "777a0ad4",
   "metadata": {},
   "outputs": [],
   "source": [
    "dog=Dog(\"max\",\"caine\",\"labrador\",\"jon\")"
   ]
  },
  {
   "cell_type": "code",
   "execution_count": 4,
   "id": "3d321e90",
   "metadata": {},
   "outputs": [
    {
     "data": {
      "text/plain": [
       "'labrador'"
      ]
     },
     "execution_count": 4,
     "metadata": {},
     "output_type": "execute_result"
    }
   ],
   "source": [
    "dog.breed"
   ]
  },
  {
   "cell_type": "code",
   "execution_count": 5,
   "id": "a7e99539",
   "metadata": {},
   "outputs": [
    {
     "data": {
      "text/plain": [
       "'jon'"
      ]
     },
     "execution_count": 5,
     "metadata": {},
     "output_type": "execute_result"
    }
   ],
   "source": [
    "dog.owner"
   ]
  },
  {
   "cell_type": "markdown",
   "id": "5e9d7bf3",
   "metadata": {},
   "source": [
    "# Q5.Create a class called \"Car\" with properties for \"make\", \"model\", and \"year\". Create a subclass of \"Car\" called \"ElectricCar\" with additional properties for \"battery_size\" and \"range\". Create objects of both classes and print out their properties."
   ]
  },
  {
   "cell_type": "code",
   "execution_count": 10,
   "id": "12c9cd12",
   "metadata": {},
   "outputs": [],
   "source": [
    "class car:\n",
    "    def __init__(self,make,model,year):\n",
    "        self.make=make\n",
    "        self.model=model\n",
    "        self.year=year\n",
    "class ElectricCar(car):\n",
    "    def __init__(self,make,model,year,battery_size,rang):\n",
    "        super(). __init__(make,model,year)\n",
    "        self.battery_size=battery_size\n",
    "        self.rang=rang"
   ]
  },
  {
   "cell_type": "code",
   "execution_count": 11,
   "id": "a38599c6",
   "metadata": {},
   "outputs": [],
   "source": [
    "car=car(\"toyota\",\"camry\",2022)"
   ]
  },
  {
   "cell_type": "code",
   "execution_count": 12,
   "id": "37240728",
   "metadata": {},
   "outputs": [],
   "source": [
    "electric=ElectricCar(\"tesla\",\"model 3\",2021,75,263)"
   ]
  },
  {
   "cell_type": "code",
   "execution_count": 14,
   "id": "868404c1",
   "metadata": {},
   "outputs": [
    {
     "data": {
      "text/plain": [
       "263"
      ]
     },
     "execution_count": 14,
     "metadata": {},
     "output_type": "execute_result"
    }
   ],
   "source": [
    "electric.rang"
   ]
  },
  {
   "cell_type": "markdown",
   "id": "6bc22a24",
   "metadata": {},
   "source": [
    "# Q6.Create a class called \"Student\" with properties for \"name\" and \"id\". Create a subclass of \"Student\" called \"GraduateStudent\" with additional properties for \"advisor\" and \"research_area\". Create objects of both classes and print out their properties."
   ]
  },
  {
   "cell_type": "code",
   "execution_count": 23,
   "id": "9f1fd0b2",
   "metadata": {},
   "outputs": [],
   "source": [
    "class student:\n",
    "    def __init__(self,name,i_d):\n",
    "        self.name=name\n",
    "        self.i_d=i_d\n",
    "class student1(student):\n",
    "    def __init__(self,name,i_d,advisor,research_area):\n",
    "        super().__init__(name,i_d)\n",
    "        self.advisor=advisor\n",
    "        self.research_area=research_area"
   ]
  },
  {
   "cell_type": "code",
   "execution_count": 24,
   "id": "ab1c8ba4",
   "metadata": {},
   "outputs": [],
   "source": [
    "student=student(\"himanhu\",\"MA22m014\")\n"
   ]
  },
  {
   "cell_type": "code",
   "execution_count": 25,
   "id": "995da539",
   "metadata": {},
   "outputs": [
    {
     "data": {
      "text/plain": [
       "'himanhu'"
      ]
     },
     "execution_count": 25,
     "metadata": {},
     "output_type": "execute_result"
    }
   ],
   "source": [
    "student.name"
   ]
  },
  {
   "cell_type": "code",
   "execution_count": 27,
   "id": "b0d712aa",
   "metadata": {},
   "outputs": [],
   "source": [
    "studentG=student1(\"himanshu\",\"182829\",\"dr vandana\",\"ml\")"
   ]
  },
  {
   "cell_type": "code",
   "execution_count": 28,
   "id": "71381476",
   "metadata": {},
   "outputs": [
    {
     "data": {
      "text/plain": [
       "'dr vandana'"
      ]
     },
     "execution_count": 28,
     "metadata": {},
     "output_type": "execute_result"
    }
   ],
   "source": [
    "studentG.advisor"
   ]
  },
  {
   "cell_type": "markdown",
   "id": "77b7c47b",
   "metadata": {},
   "source": [
    "# Q7. Create a class called \"Shape\" with methods to calculate the area and perimeter of the shape. Create subclasses of \"Shape\" for \"Rectangle\", \"Circle\", and \"Triangle\" with their own methods for calculating area and perimeter. Create objects of each class and print out their area and perimeter."
   ]
  },
  {
   "cell_type": "code",
   "execution_count": 37,
   "id": "8599ac07",
   "metadata": {},
   "outputs": [],
   "source": [
    "import math as m\n",
    "class shape:\n",
    "    def area(self):\n",
    "        pass\n",
    "    def perimaeter(self):\n",
    "        pass\n",
    "class rectangle(shape):\n",
    "    def __init__ (self,width,hight):\n",
    "        self.width=width\n",
    "        self.hight=hight\n",
    "    def area(self):\n",
    "        return self.width*self.hight\n",
    "    def perimaeter(self):\n",
    "        return 2*(self.width+self.hight)\n",
    "class circle(shape):\n",
    "    def __init__(self,radius):\n",
    "        self.radius=radius\n",
    "    def area(self):\n",
    "        return m.pi*self.radius\n",
    "    def perimaeter(self):\n",
    "        return 2*m.pi*self.radius\n",
    "class Triangle (shape):\n",
    "    def __init__(self,a,b,c):\n",
    "        self.a=a\n",
    "        self.b=b\n",
    "        self.c=c\n",
    "    def area(self):\n",
    "        s=(self.a+self.b+self.c)/2\n",
    "        return m.sqrt(s*(s-self.a)*(s-self.b)*(s-self.c))\n",
    "    def perimaeter(self):\n",
    "        return self.a+self.b+self.c"
   ]
  },
  {
   "cell_type": "code",
   "execution_count": 38,
   "id": "9dfd91dd",
   "metadata": {},
   "outputs": [],
   "source": [
    "retungle1=rectangle(5,9)"
   ]
  },
  {
   "cell_type": "code",
   "execution_count": 39,
   "id": "26f32ca5",
   "metadata": {},
   "outputs": [],
   "source": [
    "circle1=circle(3)"
   ]
  },
  {
   "cell_type": "code",
   "execution_count": 40,
   "id": "5125bc80",
   "metadata": {},
   "outputs": [],
   "source": [
    "Triangle1=Triangle(4,6,8)"
   ]
  },
  {
   "cell_type": "code",
   "execution_count": 43,
   "id": "14719809",
   "metadata": {},
   "outputs": [
    {
     "data": {
      "text/plain": [
       "45"
      ]
     },
     "execution_count": 43,
     "metadata": {},
     "output_type": "execute_result"
    }
   ],
   "source": [
    "retungle1.area()\n"
   ]
  },
  {
   "cell_type": "code",
   "execution_count": 42,
   "id": "afd929ff",
   "metadata": {},
   "outputs": [
    {
     "data": {
      "text/plain": [
       "28"
      ]
     },
     "execution_count": 42,
     "metadata": {},
     "output_type": "execute_result"
    }
   ],
   "source": [
    "retungle1.perimaeter()"
   ]
  },
  {
   "cell_type": "markdown",
   "id": "d1915fe1",
   "metadata": {},
   "source": [
    "# Q8.Create a class called \"Employee\" with properties for \"name\", \"id\", and \"salary\". Add methods to give the employee a raise and to calculate their annual salary. Create objects of this class and test out the methods"
   ]
  },
  {
   "cell_type": "code",
   "execution_count": 49,
   "id": "78ccfa01",
   "metadata": {},
   "outputs": [],
   "source": [
    "class  Employee:\n",
    "    def __init__(self,name,Id,slary):\n",
    "        self.name=name\n",
    "        self.Id=Id\n",
    "        self.slary=slary\n",
    "    def given_slary(self,amount):\n",
    "        return self.slary==self.slary+ amount\n",
    "    def per_year(self ):\n",
    "        return self.slary*12"
   ]
  },
  {
   "cell_type": "code",
   "execution_count": 50,
   "id": "025dbfd4",
   "metadata": {},
   "outputs": [],
   "source": [
    "employee1=Employee(\"himanhu\",104,7000000)"
   ]
  },
  {
   "cell_type": "code",
   "execution_count": 51,
   "id": "567a3b1e",
   "metadata": {},
   "outputs": [
    {
     "data": {
      "text/plain": [
       "84000000"
      ]
     },
     "execution_count": 51,
     "metadata": {},
     "output_type": "execute_result"
    }
   ],
   "source": [
    "employee1.per_year()"
   ]
  },
  {
   "cell_type": "code",
   "execution_count": null,
   "id": "ee29802c",
   "metadata": {},
   "outputs": [],
   "source": []
  }
 ],
 "metadata": {
  "kernelspec": {
   "display_name": "Python 3 (ipykernel)",
   "language": "python",
   "name": "python3"
  },
  "language_info": {
   "codemirror_mode": {
    "name": "ipython",
    "version": 3
   },
   "file_extension": ".py",
   "mimetype": "text/x-python",
   "name": "python",
   "nbconvert_exporter": "python",
   "pygments_lexer": "ipython3",
   "version": "3.10.9"
  }
 },
 "nbformat": 4,
 "nbformat_minor": 5
}
